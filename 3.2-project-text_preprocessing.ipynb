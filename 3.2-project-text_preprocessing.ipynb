{
 "cells": [
  {
   "cell_type": "markdown",
   "metadata": {},
   "source": [
    "# Text Preprocessing "
   ]
  },
  {
   "cell_type": "code",
   "execution_count": 38,
   "metadata": {},
   "outputs": [],
   "source": [
    "# imports\n",
    "import pandas as pd\n",
    "\n",
    "from nltk.stem import WordNetLemmatizer\n",
    "from nltk.tokenize import word_tokenize\n",
    "from nltk.stem.porter import PorterStemmer\n",
    "\n",
    "import matplotlib.pyplot as plt\n",
    "\n",
    "from sklearn.feature_extraction import text\n",
    "from sklearn.feature_extraction.text import CountVectorizer, TfidfVectorizer"
   ]
  },
  {
   "cell_type": "code",
   "execution_count": 39,
   "metadata": {},
   "outputs": [],
   "source": [
    "# Reading in data\n",
    "df = pd.read_csv('./data/all_post.csv',index_col=0 )"
   ]
  },
  {
   "cell_type": "code",
   "execution_count": 40,
   "metadata": {},
   "outputs": [
    {
     "data": {
      "text/html": [
       "<div>\n",
       "<style scoped>\n",
       "    .dataframe tbody tr th:only-of-type {\n",
       "        vertical-align: middle;\n",
       "    }\n",
       "\n",
       "    .dataframe tbody tr th {\n",
       "        vertical-align: top;\n",
       "    }\n",
       "\n",
       "    .dataframe thead th {\n",
       "        text-align: right;\n",
       "    }\n",
       "</style>\n",
       "<table border=\"1\" class=\"dataframe\">\n",
       "  <thead>\n",
       "    <tr style=\"text-align: right;\">\n",
       "      <th></th>\n",
       "      <th>title</th>\n",
       "      <th>subreddit</th>\n",
       "      <th>selftext</th>\n",
       "      <th>permalink</th>\n",
       "      <th>author</th>\n",
       "      <th>created_utc</th>\n",
       "      <th>media_only</th>\n",
       "      <th>all_text</th>\n",
       "    </tr>\n",
       "  </thead>\n",
       "  <tbody>\n",
       "    <tr>\n",
       "      <th>0</th>\n",
       "      <td>How can AI combine with Automation for the use...</td>\n",
       "      <td>0</td>\n",
       "      <td>NaN</td>\n",
       "      <td>/r/ArtificialInteligence/comments/j3fz97/how_c...</td>\n",
       "      <td>Impossible_Success_9</td>\n",
       "      <td>1601582198</td>\n",
       "      <td>False</td>\n",
       "      <td>how can ai combine with automation for the use...</td>\n",
       "    </tr>\n",
       "    <tr>\n",
       "      <th>1</th>\n",
       "      <td>[R] EvolGAN Boosts Image Quality for Small or ...</td>\n",
       "      <td>0</td>\n",
       "      <td>GAN models however require massive amounts of ...</td>\n",
       "      <td>/r/ArtificialInteligence/comments/j3elpz/r_evo...</td>\n",
       "      <td>Yuqing7</td>\n",
       "      <td>1601577926</td>\n",
       "      <td>False</td>\n",
       "      <td>[r] evolgan boosts image quality for small or ...</td>\n",
       "    </tr>\n",
       "    <tr>\n",
       "      <th>2</th>\n",
       "      <td>Aren't you excited to try this project ??</td>\n",
       "      <td>0</td>\n",
       "      <td># Code:- [https://aihubprojects.com/ai-project...</td>\n",
       "      <td>/r/ArtificialInteligence/comments/j3dzpn/arent...</td>\n",
       "      <td>aihubprojects</td>\n",
       "      <td>1601576018</td>\n",
       "      <td>False</td>\n",
       "      <td>aren't you excited to try this project ??# cod...</td>\n",
       "    </tr>\n",
       "    <tr>\n",
       "      <th>3</th>\n",
       "      <td>Things to Consider for Implementing Voice-enab...</td>\n",
       "      <td>0</td>\n",
       "      <td>NaN</td>\n",
       "      <td>/r/ArtificialInteligence/comments/j3d6k3/thing...</td>\n",
       "      <td>analyticsinsight</td>\n",
       "      <td>1601573537</td>\n",
       "      <td>False</td>\n",
       "      <td>things to consider for implementing voice-enab...</td>\n",
       "    </tr>\n",
       "    <tr>\n",
       "      <th>4</th>\n",
       "      <td>Development in General Adversarial Networks (G...</td>\n",
       "      <td>0</td>\n",
       "      <td>NaN</td>\n",
       "      <td>/r/ArtificialInteligence/comments/j3ccg2/devel...</td>\n",
       "      <td>m1900kang2</td>\n",
       "      <td>1601571077</td>\n",
       "      <td>False</td>\n",
       "      <td>development in general adversarial networks (g...</td>\n",
       "    </tr>\n",
       "  </tbody>\n",
       "</table>\n",
       "</div>"
      ],
      "text/plain": [
       "                                               title  subreddit  \\\n",
       "0  How can AI combine with Automation for the use...          0   \n",
       "1  [R] EvolGAN Boosts Image Quality for Small or ...          0   \n",
       "2          Aren't you excited to try this project ??          0   \n",
       "3  Things to Consider for Implementing Voice-enab...          0   \n",
       "4  Development in General Adversarial Networks (G...          0   \n",
       "\n",
       "                                            selftext  \\\n",
       "0                                                NaN   \n",
       "1  GAN models however require massive amounts of ...   \n",
       "2  # Code:- [https://aihubprojects.com/ai-project...   \n",
       "3                                                NaN   \n",
       "4                                                NaN   \n",
       "\n",
       "                                           permalink                author  \\\n",
       "0  /r/ArtificialInteligence/comments/j3fz97/how_c...  Impossible_Success_9   \n",
       "1  /r/ArtificialInteligence/comments/j3elpz/r_evo...               Yuqing7   \n",
       "2  /r/ArtificialInteligence/comments/j3dzpn/arent...         aihubprojects   \n",
       "3  /r/ArtificialInteligence/comments/j3d6k3/thing...      analyticsinsight   \n",
       "4  /r/ArtificialInteligence/comments/j3ccg2/devel...            m1900kang2   \n",
       "\n",
       "   created_utc  media_only                                           all_text  \n",
       "0   1601582198       False  how can ai combine with automation for the use...  \n",
       "1   1601577926       False  [r] evolgan boosts image quality for small or ...  \n",
       "2   1601576018       False  aren't you excited to try this project ??# cod...  \n",
       "3   1601573537       False  things to consider for implementing voice-enab...  \n",
       "4   1601571077       False  development in general adversarial networks (g...  "
      ]
     },
     "execution_count": 40,
     "metadata": {},
     "output_type": "execute_result"
    }
   ],
   "source": [
    "# Examining data\n",
    "df.head()"
   ]
  },
  {
   "cell_type": "code",
   "execution_count": 41,
   "metadata": {},
   "outputs": [],
   "source": [
    "# Dropping NA's from the data frame\n",
    "df = df.dropna(subset=['all_text'])"
   ]
  },
  {
   "cell_type": "code",
   "execution_count": 42,
   "metadata": {},
   "outputs": [
    {
     "data": {
      "text/plain": [
       "0    9998\n",
       "1    9743\n",
       "Name: subreddit, dtype: int64"
      ]
     },
     "execution_count": 42,
     "metadata": {},
     "output_type": "execute_result"
    }
   ],
   "source": [
    "df['subreddit'].value_counts()"
   ]
  },
  {
   "cell_type": "markdown",
   "metadata": {},
   "source": [
    "## Creating and Testing Preprocessing Function"
   ]
  },
  {
   "cell_type": "code",
   "execution_count": 43,
   "metadata": {},
   "outputs": [],
   "source": [
    "test = 'I like machine learning. AI is the coolest. When are machines going to take over the world?'"
   ]
  },
  {
   "cell_type": "code",
   "execution_count": 44,
   "metadata": {},
   "outputs": [],
   "source": [
    "lemmatizer = WordNetLemmatizer()\n",
    "stemmer = PorterStemmer()"
   ]
  },
  {
   "cell_type": "code",
   "execution_count": 45,
   "metadata": {},
   "outputs": [],
   "source": [
    "# Lemmetization function\n",
    "def lem_preprocess(text):\n",
    "    t = word_tokenize(text.lower())\n",
    "    l = [lemmatizer.lemmatize(word) for word in t]\n",
    "    return ' '.join(l)"
   ]
  },
  {
   "cell_type": "code",
   "execution_count": 46,
   "metadata": {},
   "outputs": [
    {
     "data": {
      "text/plain": [
       "'i like machine learning . ai is the coolest . when are machine going to take over the world ?'"
      ]
     },
     "execution_count": 46,
     "metadata": {},
     "output_type": "execute_result"
    }
   ],
   "source": [
    "# Lemmetization test\n",
    "lem_preprocess(test)"
   ]
  },
  {
   "cell_type": "code",
   "execution_count": 47,
   "metadata": {},
   "outputs": [],
   "source": [
    "# Stem function\n",
    "def stem_preprocess(text):\n",
    "    t = word_tokenize(text.lower())\n",
    "    p = [stemmer.stem(word) for word in t]\n",
    "    return ' '.join(p)"
   ]
  },
  {
   "cell_type": "code",
   "execution_count": 48,
   "metadata": {},
   "outputs": [
    {
     "data": {
      "text/plain": [
       "'i like machin learn . ai is the coolest . when are machin go to take over the world ?'"
      ]
     },
     "execution_count": 48,
     "metadata": {},
     "output_type": "execute_result"
    }
   ],
   "source": [
    "# Stem function test\n",
    "stem_preprocess(test)"
   ]
  },
  {
   "cell_type": "code",
   "execution_count": 49,
   "metadata": {},
   "outputs": [],
   "source": [
    "# Creating stemmed and lemmetized all_text columns\n",
    "\n",
    "df['stem_all_text'] = df['all_text'].apply(stem_preprocess)\n",
    "df['lem_all_text'] = df['all_text'].apply(lem_preprocess)"
   ]
  },
  {
   "cell_type": "code",
   "execution_count": 50,
   "metadata": {},
   "outputs": [
    {
     "data": {
      "text/html": [
       "<div>\n",
       "<style scoped>\n",
       "    .dataframe tbody tr th:only-of-type {\n",
       "        vertical-align: middle;\n",
       "    }\n",
       "\n",
       "    .dataframe tbody tr th {\n",
       "        vertical-align: top;\n",
       "    }\n",
       "\n",
       "    .dataframe thead th {\n",
       "        text-align: right;\n",
       "    }\n",
       "</style>\n",
       "<table border=\"1\" class=\"dataframe\">\n",
       "  <thead>\n",
       "    <tr style=\"text-align: right;\">\n",
       "      <th></th>\n",
       "      <th>title</th>\n",
       "      <th>subreddit</th>\n",
       "      <th>selftext</th>\n",
       "      <th>permalink</th>\n",
       "      <th>author</th>\n",
       "      <th>created_utc</th>\n",
       "      <th>media_only</th>\n",
       "      <th>all_text</th>\n",
       "      <th>stem_all_text</th>\n",
       "      <th>lem_all_text</th>\n",
       "    </tr>\n",
       "  </thead>\n",
       "  <tbody>\n",
       "    <tr>\n",
       "      <th>0</th>\n",
       "      <td>How can AI combine with Automation for the use...</td>\n",
       "      <td>0</td>\n",
       "      <td>NaN</td>\n",
       "      <td>/r/ArtificialInteligence/comments/j3fz97/how_c...</td>\n",
       "      <td>Impossible_Success_9</td>\n",
       "      <td>1601582198</td>\n",
       "      <td>False</td>\n",
       "      <td>how can ai combine with automation for the use...</td>\n",
       "      <td>how can ai combin with autom for the use of th...</td>\n",
       "      <td>how can ai combine with automation for the use...</td>\n",
       "    </tr>\n",
       "    <tr>\n",
       "      <th>1</th>\n",
       "      <td>[R] EvolGAN Boosts Image Quality for Small or ...</td>\n",
       "      <td>0</td>\n",
       "      <td>GAN models however require massive amounts of ...</td>\n",
       "      <td>/r/ArtificialInteligence/comments/j3elpz/r_evo...</td>\n",
       "      <td>Yuqing7</td>\n",
       "      <td>1601577926</td>\n",
       "      <td>False</td>\n",
       "      <td>[r] evolgan boosts image quality for small or ...</td>\n",
       "      <td>[ r ] evolgan boost imag qualiti for small or ...</td>\n",
       "      <td>[ r ] evolgan boost image quality for small or...</td>\n",
       "    </tr>\n",
       "    <tr>\n",
       "      <th>2</th>\n",
       "      <td>Aren't you excited to try this project ??</td>\n",
       "      <td>0</td>\n",
       "      <td># Code:- [https://aihubprojects.com/ai-project...</td>\n",
       "      <td>/r/ArtificialInteligence/comments/j3dzpn/arent...</td>\n",
       "      <td>aihubprojects</td>\n",
       "      <td>1601576018</td>\n",
       "      <td>False</td>\n",
       "      <td>aren't you excited to try this project ??# cod...</td>\n",
       "      <td>are n't you excit to tri thi project ? ? # cod...</td>\n",
       "      <td>are n't you excited to try this project ? ? # ...</td>\n",
       "    </tr>\n",
       "    <tr>\n",
       "      <th>3</th>\n",
       "      <td>Things to Consider for Implementing Voice-enab...</td>\n",
       "      <td>0</td>\n",
       "      <td>NaN</td>\n",
       "      <td>/r/ArtificialInteligence/comments/j3d6k3/thing...</td>\n",
       "      <td>analyticsinsight</td>\n",
       "      <td>1601573537</td>\n",
       "      <td>False</td>\n",
       "      <td>things to consider for implementing voice-enab...</td>\n",
       "      <td>thing to consid for implement voice-en ai</td>\n",
       "      <td>thing to consider for implementing voice-enabl...</td>\n",
       "    </tr>\n",
       "    <tr>\n",
       "      <th>4</th>\n",
       "      <td>Development in General Adversarial Networks (G...</td>\n",
       "      <td>0</td>\n",
       "      <td>NaN</td>\n",
       "      <td>/r/ArtificialInteligence/comments/j3ccg2/devel...</td>\n",
       "      <td>m1900kang2</td>\n",
       "      <td>1601571077</td>\n",
       "      <td>False</td>\n",
       "      <td>development in general adversarial networks (g...</td>\n",
       "      <td>develop in gener adversari network ( gan ) ha ...</td>\n",
       "      <td>development in general adversarial network ( g...</td>\n",
       "    </tr>\n",
       "  </tbody>\n",
       "</table>\n",
       "</div>"
      ],
      "text/plain": [
       "                                               title  subreddit  \\\n",
       "0  How can AI combine with Automation for the use...          0   \n",
       "1  [R] EvolGAN Boosts Image Quality for Small or ...          0   \n",
       "2          Aren't you excited to try this project ??          0   \n",
       "3  Things to Consider for Implementing Voice-enab...          0   \n",
       "4  Development in General Adversarial Networks (G...          0   \n",
       "\n",
       "                                            selftext  \\\n",
       "0                                                NaN   \n",
       "1  GAN models however require massive amounts of ...   \n",
       "2  # Code:- [https://aihubprojects.com/ai-project...   \n",
       "3                                                NaN   \n",
       "4                                                NaN   \n",
       "\n",
       "                                           permalink                author  \\\n",
       "0  /r/ArtificialInteligence/comments/j3fz97/how_c...  Impossible_Success_9   \n",
       "1  /r/ArtificialInteligence/comments/j3elpz/r_evo...               Yuqing7   \n",
       "2  /r/ArtificialInteligence/comments/j3dzpn/arent...         aihubprojects   \n",
       "3  /r/ArtificialInteligence/comments/j3d6k3/thing...      analyticsinsight   \n",
       "4  /r/ArtificialInteligence/comments/j3ccg2/devel...            m1900kang2   \n",
       "\n",
       "   created_utc  media_only                                           all_text  \\\n",
       "0   1601582198       False  how can ai combine with automation for the use...   \n",
       "1   1601577926       False  [r] evolgan boosts image quality for small or ...   \n",
       "2   1601576018       False  aren't you excited to try this project ??# cod...   \n",
       "3   1601573537       False  things to consider for implementing voice-enab...   \n",
       "4   1601571077       False  development in general adversarial networks (g...   \n",
       "\n",
       "                                       stem_all_text  \\\n",
       "0  how can ai combin with autom for the use of th...   \n",
       "1  [ r ] evolgan boost imag qualiti for small or ...   \n",
       "2  are n't you excit to tri thi project ? ? # cod...   \n",
       "3          thing to consid for implement voice-en ai   \n",
       "4  develop in gener adversari network ( gan ) ha ...   \n",
       "\n",
       "                                        lem_all_text  \n",
       "0  how can ai combine with automation for the use...  \n",
       "1  [ r ] evolgan boost image quality for small or...  \n",
       "2  are n't you excited to try this project ? ? # ...  \n",
       "3  thing to consider for implementing voice-enabl...  \n",
       "4  development in general adversarial network ( g...  "
      ]
     },
     "execution_count": 50,
     "metadata": {},
     "output_type": "execute_result"
    }
   ],
   "source": [
    "# Examining the data after changes\n",
    "df.head()"
   ]
  },
  {
   "cell_type": "markdown",
   "metadata": {},
   "source": [
    "## Investigating Potential Stop Words"
   ]
  },
  {
   "cell_type": "code",
   "execution_count": 51,
   "metadata": {},
   "outputs": [],
   "source": [
    "# Creating ml and ai data frames\n",
    "ml = df[df['subreddit'] == 1]\n",
    "ai = df[df['subreddit'] == 0]"
   ]
  },
  {
   "cell_type": "code",
   "execution_count": 14,
   "metadata": {},
   "outputs": [],
   "source": [
    "# After some EDA, I found these words to be commonly used in both of the subreddtis.\n",
    "my_stop_words = text.ENGLISH_STOP_WORDS.union([\"removed\", 'data', 'http', 'machine', 'learning',\n",
    "                                               'ai', 'artificial', 'intelligence', 'removed', 'com'])"
   ]
  },
  {
   "cell_type": "code",
   "execution_count": 15,
   "metadata": {},
   "outputs": [],
   "source": [
    "# Instantiating vectorizer using my_stop_words from above\n",
    "tfd = TfidfVectorizer(stop_words=my_stop_words)\n",
    "tfd2 = TfidfVectorizer(stop_words=my_stop_words)"
   ]
  },
  {
   "cell_type": "code",
   "execution_count": 16,
   "metadata": {},
   "outputs": [],
   "source": [
    "# Fitting and transforming my vectorizers\n",
    "ml_vect = tfd.fit_transform(ml['lem_all_text'])\n",
    "ai_vect = tfd2.fit_transform(ai['lem_all_text'])"
   ]
  },
  {
   "cell_type": "markdown",
   "metadata": {},
   "source": [
    "#### Creating Vectorized Machine Learning Dataframe to view most common words"
   ]
  },
  {
   "cell_type": "code",
   "execution_count": 17,
   "metadata": {},
   "outputs": [],
   "source": [
    "# Vectorized ML data frame\n",
    "ml_df = pd.DataFrame(ml_vect.toarray(), \n",
    "            columns = tfd.get_feature_names())"
   ]
  },
  {
   "cell_type": "code",
   "execution_count": 18,
   "metadata": {},
   "outputs": [],
   "source": [
    "# Counting the words\n",
    "top_words = {}\n",
    "for i in ml_df.columns:\n",
    "    top_words[i] =  sum(ml_df[i])   "
   ]
  },
  {
   "cell_type": "code",
   "execution_count": 19,
   "metadata": {},
   "outputs": [],
   "source": [
    "# Dataframe with counts\n",
    "ml_most_freq = pd.DataFrame(sorted(top_words.items(), key = lambda x: x[1], reverse = True), columns=['Word', 'Count'])\n",
    "ml_top_15 = ml_most_freq.head(15)\n",
    "#ml_top_15.set_index(0, inplace=True)"
   ]
  },
  {
   "cell_type": "code",
   "execution_count": 20,
   "metadata": {
    "collapsed": true,
    "jupyter": {
     "outputs_hidden": true
    }
   },
   "outputs": [
    {
     "data": {
      "text/html": [
       "<div>\n",
       "<style scoped>\n",
       "    .dataframe tbody tr th:only-of-type {\n",
       "        vertical-align: middle;\n",
       "    }\n",
       "\n",
       "    .dataframe tbody tr th {\n",
       "        vertical-align: top;\n",
       "    }\n",
       "\n",
       "    .dataframe thead th {\n",
       "        text-align: right;\n",
       "    }\n",
       "</style>\n",
       "<table border=\"1\" class=\"dataframe\">\n",
       "  <thead>\n",
       "    <tr style=\"text-align: right;\">\n",
       "      <th></th>\n",
       "      <th>Word</th>\n",
       "      <th>Count</th>\n",
       "    </tr>\n",
       "  </thead>\n",
       "  <tbody>\n",
       "    <tr>\n",
       "      <th>0</th>\n",
       "      <td>model</td>\n",
       "      <td>205.433608</td>\n",
       "    </tr>\n",
       "    <tr>\n",
       "      <th>1</th>\n",
       "      <td>ml</td>\n",
       "      <td>173.521795</td>\n",
       "    </tr>\n",
       "    <tr>\n",
       "      <th>2</th>\n",
       "      <td>using</td>\n",
       "      <td>129.811651</td>\n",
       "    </tr>\n",
       "    <tr>\n",
       "      <th>3</th>\n",
       "      <td>project</td>\n",
       "      <td>125.389416</td>\n",
       "    </tr>\n",
       "    <tr>\n",
       "      <th>4</th>\n",
       "      <td>paper</td>\n",
       "      <td>119.559208</td>\n",
       "    </tr>\n",
       "    <tr>\n",
       "      <th>5</th>\n",
       "      <td>image</td>\n",
       "      <td>118.839068</td>\n",
       "    </tr>\n",
       "    <tr>\n",
       "      <th>6</th>\n",
       "      <td>deep</td>\n",
       "      <td>116.505062</td>\n",
       "    </tr>\n",
       "    <tr>\n",
       "      <th>7</th>\n",
       "      <td>network</td>\n",
       "      <td>115.328174</td>\n",
       "    </tr>\n",
       "    <tr>\n",
       "      <th>8</th>\n",
       "      <td>amp</td>\n",
       "      <td>114.216934</td>\n",
       "    </tr>\n",
       "    <tr>\n",
       "      <th>9</th>\n",
       "      <td>help</td>\n",
       "      <td>108.087684</td>\n",
       "    </tr>\n",
       "    <tr>\n",
       "      <th>10</th>\n",
       "      <td>neural</td>\n",
       "      <td>98.331650</td>\n",
       "    </tr>\n",
       "    <tr>\n",
       "      <th>11</th>\n",
       "      <td>based</td>\n",
       "      <td>97.991342</td>\n",
       "    </tr>\n",
       "    <tr>\n",
       "      <th>12</th>\n",
       "      <td>research</td>\n",
       "      <td>94.930917</td>\n",
       "    </tr>\n",
       "    <tr>\n",
       "      <th>13</th>\n",
       "      <td>deleted</td>\n",
       "      <td>94.377114</td>\n",
       "    </tr>\n",
       "    <tr>\n",
       "      <th>14</th>\n",
       "      <td>use</td>\n",
       "      <td>91.055808</td>\n",
       "    </tr>\n",
       "  </tbody>\n",
       "</table>\n",
       "</div>"
      ],
      "text/plain": [
       "        Word       Count\n",
       "0      model  205.433608\n",
       "1         ml  173.521795\n",
       "2      using  129.811651\n",
       "3    project  125.389416\n",
       "4      paper  119.559208\n",
       "5      image  118.839068\n",
       "6       deep  116.505062\n",
       "7    network  115.328174\n",
       "8        amp  114.216934\n",
       "9       help  108.087684\n",
       "10    neural   98.331650\n",
       "11     based   97.991342\n",
       "12  research   94.930917\n",
       "13   deleted   94.377114\n",
       "14       use   91.055808"
      ]
     },
     "execution_count": 20,
     "metadata": {},
     "output_type": "execute_result"
    }
   ],
   "source": [
    "ml_top_15"
   ]
  },
  {
   "cell_type": "code",
   "execution_count": 21,
   "metadata": {},
   "outputs": [
    {
     "data": {
      "image/png": "[encoded data removed]",
      "text/plain": [
       "<Figure size 432x288 with 1 Axes>"
      ]
     },
     "metadata": {
      "needs_background": "light"
     },
     "output_type": "display_data"
    }
   ],
   "source": [
    "ml_top_15.set_index('Word').plot(kind='barh')\n",
    "plt.title('Top 15 Words in Machine Learning Subreddit');\n",
    "plt.savefig('./assets/ml_top15.png')"
   ]
  },
  {
   "cell_type": "markdown",
   "metadata": {},
   "source": [
    "#### Creating Vectorized AI Dataframe to view most common words"
   ]
  },
  {
   "cell_type": "code",
   "execution_count": 22,
   "metadata": {},
   "outputs": [],
   "source": [
    "# Vectorized AI data frame\n",
    "ai_df = pd.DataFrame(ai_vect.toarray(), \n",
    "            columns = tfd2.get_feature_names())"
   ]
  },
  {
   "cell_type": "code",
   "execution_count": 23,
   "metadata": {},
   "outputs": [],
   "source": [
    "# Counting the words\n",
    "top_words = {}\n",
    "for i in ai_df.columns:\n",
    "    top_words[i] =  sum(ai_df[i]) "
   ]
  },
  {
   "cell_type": "code",
   "execution_count": 24,
   "metadata": {},
   "outputs": [],
   "source": [
    "# Dataframe with counts\n",
    "ai_most_freq = pd.DataFrame(sorted(top_words.items(), key = lambda x: x[1], reverse = True), columns=['Word', 'Count'])\n",
    "ai_top_15 = ai_most_freq.head(15)"
   ]
  },
  {
   "cell_type": "code",
   "execution_count": 25,
   "metadata": {
    "collapsed": true,
    "jupyter": {
     "outputs_hidden": true
    }
   },
   "outputs": [
    {
     "data": {
      "text/html": [
       "<div>\n",
       "<style scoped>\n",
       "    .dataframe tbody tr th:only-of-type {\n",
       "        vertical-align: middle;\n",
       "    }\n",
       "\n",
       "    .dataframe tbody tr th {\n",
       "        vertical-align: top;\n",
       "    }\n",
       "\n",
       "    .dataframe thead th {\n",
       "        text-align: right;\n",
       "    }\n",
       "</style>\n",
       "<table border=\"1\" class=\"dataframe\">\n",
       "  <thead>\n",
       "    <tr style=\"text-align: right;\">\n",
       "      <th></th>\n",
       "      <th>Word</th>\n",
       "      <th>Count</th>\n",
       "    </tr>\n",
       "  </thead>\n",
       "  <tbody>\n",
       "    <tr>\n",
       "      <th>0</th>\n",
       "      <td>amp</td>\n",
       "      <td>143.413931</td>\n",
       "    </tr>\n",
       "    <tr>\n",
       "      <th>1</th>\n",
       "      <td>onpassive</td>\n",
       "      <td>128.491029</td>\n",
       "    </tr>\n",
       "    <tr>\n",
       "      <th>2</th>\n",
       "      <td>business</td>\n",
       "      <td>120.888356</td>\n",
       "    </tr>\n",
       "    <tr>\n",
       "      <th>3</th>\n",
       "      <td>2020</td>\n",
       "      <td>115.722501</td>\n",
       "    </tr>\n",
       "    <tr>\n",
       "      <th>4</th>\n",
       "      <td>future</td>\n",
       "      <td>112.307560</td>\n",
       "    </tr>\n",
       "    <tr>\n",
       "      <th>5</th>\n",
       "      <td>technology</td>\n",
       "      <td>100.752198</td>\n",
       "    </tr>\n",
       "    <tr>\n",
       "      <th>6</th>\n",
       "      <td>new</td>\n",
       "      <td>100.509976</td>\n",
       "    </tr>\n",
       "    <tr>\n",
       "      <th>7</th>\n",
       "      <td>using</td>\n",
       "      <td>97.742609</td>\n",
       "    </tr>\n",
       "    <tr>\n",
       "      <th>8</th>\n",
       "      <td>industry</td>\n",
       "      <td>97.527788</td>\n",
       "    </tr>\n",
       "    <tr>\n",
       "      <th>9</th>\n",
       "      <td>human</td>\n",
       "      <td>96.419451</td>\n",
       "    </tr>\n",
       "    <tr>\n",
       "      <th>10</th>\n",
       "      <td>know</td>\n",
       "      <td>82.366259</td>\n",
       "    </tr>\n",
       "    <tr>\n",
       "      <th>11</th>\n",
       "      <td>help</td>\n",
       "      <td>81.891861</td>\n",
       "    </tr>\n",
       "    <tr>\n",
       "      <th>12</th>\n",
       "      <td>model</td>\n",
       "      <td>75.212275</td>\n",
       "    </tr>\n",
       "    <tr>\n",
       "      <th>13</th>\n",
       "      <td>deep</td>\n",
       "      <td>74.762125</td>\n",
       "    </tr>\n",
       "    <tr>\n",
       "      <th>14</th>\n",
       "      <td>best</td>\n",
       "      <td>72.816063</td>\n",
       "    </tr>\n",
       "  </tbody>\n",
       "</table>\n",
       "</div>"
      ],
      "text/plain": [
       "          Word       Count\n",
       "0          amp  143.413931\n",
       "1    onpassive  128.491029\n",
       "2     business  120.888356\n",
       "3         2020  115.722501\n",
       "4       future  112.307560\n",
       "5   technology  100.752198\n",
       "6          new  100.509976\n",
       "7        using   97.742609\n",
       "8     industry   97.527788\n",
       "9        human   96.419451\n",
       "10        know   82.366259\n",
       "11        help   81.891861\n",
       "12       model   75.212275\n",
       "13        deep   74.762125\n",
       "14        best   72.816063"
      ]
     },
     "execution_count": 25,
     "metadata": {},
     "output_type": "execute_result"
    }
   ],
   "source": [
    "ai_top_15"
   ]
  },
  {
   "cell_type": "code",
   "execution_count": 26,
   "metadata": {},
   "outputs": [
    {
     "data": {
      "image/png": "[encoded data removed]",
      "text/plain": [
       "<Figure size 432x288 with 1 Axes>"
      ]
     },
     "metadata": {
      "needs_background": "light"
     },
     "output_type": "display_data"
    }
   ],
   "source": [
    "ai_top_15.set_index('Word').plot(kind='barh');\n",
    "plt.title('Top 15 Words in Artificial Intelligence Subreddit')\n",
    "plt.savefig('./assets/ai_top15');"
   ]
  },
  {
   "cell_type": "code",
   "execution_count": 21,
   "metadata": {},
   "outputs": [],
   "source": [
    "# Saving preprocessing work on data\n",
    "df.to_csv('./data/processed_posts.csv')"
   ]
  }
 ],
 "metadata": {
  "kernelspec": {
   "display_name": "Python 3",
   "language": "python",
   "name": "python3"
  },
  "language_info": {
   "codemirror_mode": {
    "name": "ipython",
    "version": 3
   },
   "file_extension": ".py",
   "mimetype": "text/x-python",
   "name": "python",
   "nbconvert_exporter": "python",
   "pygments_lexer": "ipython3",
   "version": "3.7.7"
  }
 },
 "nbformat": 4,
 "nbformat_minor": 4
}
