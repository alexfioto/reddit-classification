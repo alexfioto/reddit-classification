{
 "cells": [
  {
   "cell_type": "markdown",
   "metadata": {},
   "source": [
    "# Tensorflow/Keras Classification"
   ]
  },
  {
   "cell_type": "code",
   "execution_count": 36,
   "metadata": {},
   "outputs": [],
   "source": [
    "import tensorflow as tf\n",
    "import csv\n",
    "import random\n",
    "from sklearn.feature_extraction import text\n",
    "\n",
    "from tensorflow.keras.preprocessing.text import Tokenizer\n",
    "from tensorflow.keras.preprocessing.sequence import pad_sequences"
   ]
  },
  {
   "cell_type": "code",
   "execution_count": 12,
   "metadata": {},
   "outputs": [],
   "source": [
    "# List of stop-words from sci-kit learn\n",
    "stopwords = list(text.ENGLISH_STOP_WORDS)"
   ]
  },
  {
   "cell_type": "code",
   "execution_count": 33,
   "metadata": {},
   "outputs": [],
   "source": [
    "# Opening data \n",
    "data = []\n",
    "\n",
    "with open('data/all_post.csv', 'r') as csvfile:\n",
    "    reader = csv.reader(csvfile, delimiter=',')\n",
    "    next(reader)\n",
    "    for row in reader:\n",
    "        row_data = []\n",
    "        row_data.append(row[2])\n",
    "        title = row[1]\n",
    "        for word in stopwords:\n",
    "            token = \" \" + word + \" \"\n",
    "            title = title.replace(token, ' ')\n",
    "        row_data.append(title)\n",
    "        data.append(row_data)"
   ]
  },
  {
   "cell_type": "code",
   "execution_count": 221,
   "metadata": {},
   "outputs": [],
   "source": [
    "# Neural Net Parameters\n",
    "vocab_size = 1000\n",
    "embedding_dim = 16\n",
    "max_length = 50\n",
    "padding_type = 'post'\n",
    "oov_tok = '<OOV>'\n",
    "training_proportion = .8"
   ]
  },
  {
   "cell_type": "code",
   "execution_count": 222,
   "metadata": {},
   "outputs": [
    {
     "data": {
      "text/plain": [
       "16000"
      ]
     },
     "execution_count": 222,
     "metadata": {},
     "output_type": "execute_result"
    }
   ],
   "source": [
    "# Shuffling the data and assigning index to split on\n",
    "random.shuffle(data)\n",
    "split = int(training_proportion * len(data))\n",
    "split"
   ]
  },
  {
   "cell_type": "code",
   "execution_count": 223,
   "metadata": {},
   "outputs": [],
   "source": [
    "# Creating X and Y\n",
    "posts = []\n",
    "labels = []\n",
    "for item in data:\n",
    "    posts.append(item[1])\n",
    "    labels.append(item[0])"
   ]
  },
  {
   "cell_type": "code",
   "execution_count": 224,
   "metadata": {},
   "outputs": [
    {
     "name": "stdout",
     "output_type": "stream",
     "text": [
      "16000\n",
      "4000\n",
      "16000\n",
      "4000\n"
     ]
    }
   ],
   "source": [
    "# Testing and Validation split\n",
    "train_posts = posts[:split]\n",
    "train_labels = labels[:split]\n",
    "validation_posts = posts[split:]\n",
    "validation_labels = labels[split:]\n",
    "\n",
    "print(len(train_posts))\n",
    "print(len(validation_posts))\n",
    "print(len(train_labels))\n",
    "print(len(validation_labels))"
   ]
  },
  {
   "cell_type": "code",
   "execution_count": 225,
   "metadata": {},
   "outputs": [],
   "source": [
    "# Instantiating tokenizer, sequencing and padding posts\n",
    "tokenizer = Tokenizer(num_words = vocab_size, oov_token = oov_tok)\n",
    "train_sequences = tokenizer.fit_on_texts(train_posts)\n",
    "word_index = tokenizer.word_index\n",
    "\n",
    "train_sequences = tokenizer.texts_to_sequences(train_posts)\n",
    "train_padded = pad_sequences(train_sequences, \n",
    "                             maxlen=max_length,\n",
    "                             padding=padding_type)\n",
    "\n",
    "validation_sequences = tokenizer.texts_to_sequences(validation_posts)\n",
    "validation_padded = pad_sequences(validation_sequences,\n",
    "                                  maxlen=max_length,\n",
    "                                  padding=padding_type)"
   ]
  },
  {
   "cell_type": "code",
   "execution_count": 226,
   "metadata": {},
   "outputs": [],
   "source": [
    "# Formatting labels as numpy arrays for tensorflow input\n",
    "import numpy as np\n",
    "train_labels = np.array(train_labels).astype(int)\n",
    "validation_labels = np.array(validation_labels).astype(int)"
   ]
  },
  {
   "cell_type": "code",
   "execution_count": 231,
   "metadata": {},
   "outputs": [
    {
     "name": "stdout",
     "output_type": "stream",
     "text": [
      "Model: \"sequential_28\"\n",
      "_________________________________________________________________\n",
      "Layer (type)                 Output Shape              Param #   \n",
      "=================================================================\n",
      "embedding_28 (Embedding)     (None, 50, 16)            16000     \n",
      "_________________________________________________________________\n",
      "conv1d_23 (Conv1D)           (None, 48, 24)            1176      \n",
      "_________________________________________________________________\n",
      "global_average_pooling1d_28  (None, 24)                0         \n",
      "_________________________________________________________________\n",
      "dropout_45 (Dropout)         (None, 24)                0         \n",
      "_________________________________________________________________\n",
      "dense_57 (Dense)             (None, 16)                400       \n",
      "_________________________________________________________________\n",
      "dropout_46 (Dropout)         (None, 16)                0         \n",
      "_________________________________________________________________\n",
      "dense_58 (Dense)             (None, 1)                 17        \n",
      "=================================================================\n",
      "Total params: 17,593\n",
      "Trainable params: 17,593\n",
      "Non-trainable params: 0\n",
      "_________________________________________________________________\n"
     ]
    }
   ],
   "source": [
    "# Instantiating the model\n",
    "model = tf.keras.Sequential([\n",
    "    tf.keras.layers.Embedding(vocab_size, embedding_dim, input_length=max_length),\n",
    "    tf.keras.layers.Conv1D(24, 3, activation='relu'),\n",
    "    tf.keras.layers.GlobalAveragePooling1D(),\n",
    "    tf.keras.layers.Dropout(.2),\n",
    "    tf.keras.layers.Dense(16, activation='relu'),\n",
    "    tf.keras.layers.Dropout(.2),\n",
    "    tf.keras.layers.Dense(1, activation='sigmoid')\n",
    "])\n",
    "\n",
    "# Custom ADAM optimizer\n",
    "adam = tf.keras.optimizers.Adam(learning_rate = 0.001)\n",
    "\n",
    "# Compiling the model\n",
    "model.compile(optimizer=adam, loss='binary_crossentropy', metrics=['acc'])\n",
    "\n",
    "model.summary()"
   ]
  },
  {
   "cell_type": "code",
   "execution_count": 232,
   "metadata": {},
   "outputs": [
    {
     "name": "stdout",
     "output_type": "stream",
     "text": [
      "Epoch 1/15\n",
      "500/500 - 1s - loss: 0.5752 - acc: 0.6908 - val_loss: 0.4232 - val_acc: 0.8090\n",
      "Epoch 2/15\n",
      "500/500 - 1s - loss: 0.3977 - acc: 0.8242 - val_loss: 0.3880 - val_acc: 0.8170\n",
      "Epoch 3/15\n",
      "500/500 - 1s - loss: 0.3688 - acc: 0.8380 - val_loss: 0.3849 - val_acc: 0.8207\n",
      "Epoch 4/15\n",
      "500/500 - 1s - loss: 0.3595 - acc: 0.8451 - val_loss: 0.3815 - val_acc: 0.8260\n",
      "Epoch 5/15\n",
      "500/500 - 1s - loss: 0.3508 - acc: 0.8451 - val_loss: 0.3801 - val_acc: 0.8278\n",
      "Epoch 6/15\n",
      "500/500 - 1s - loss: 0.3450 - acc: 0.8517 - val_loss: 0.3787 - val_acc: 0.8295\n",
      "Epoch 7/15\n",
      "500/500 - 1s - loss: 0.3404 - acc: 0.8534 - val_loss: 0.3812 - val_acc: 0.8298\n",
      "Epoch 8/15\n",
      "500/500 - 1s - loss: 0.3357 - acc: 0.8541 - val_loss: 0.3827 - val_acc: 0.8278\n",
      "Epoch 9/15\n",
      "500/500 - 1s - loss: 0.3303 - acc: 0.8579 - val_loss: 0.3821 - val_acc: 0.8255\n",
      "Epoch 10/15\n",
      "500/500 - 1s - loss: 0.3238 - acc: 0.8614 - val_loss: 0.3813 - val_acc: 0.8245\n",
      "Epoch 11/15\n",
      "500/500 - 0s - loss: 0.3176 - acc: 0.8648 - val_loss: 0.3824 - val_acc: 0.8213\n",
      "Epoch 12/15\n",
      "500/500 - 0s - loss: 0.3150 - acc: 0.8671 - val_loss: 0.3806 - val_acc: 0.8223\n",
      "Epoch 13/15\n",
      "500/500 - 1s - loss: 0.3077 - acc: 0.8723 - val_loss: 0.3857 - val_acc: 0.8220\n",
      "Epoch 14/15\n",
      "500/500 - 1s - loss: 0.3017 - acc: 0.8717 - val_loss: 0.3884 - val_acc: 0.8245\n",
      "Epoch 15/15\n",
      "500/500 - 1s - loss: 0.2951 - acc: 0.8754 - val_loss: 0.3907 - val_acc: 0.8188\n"
     ]
    }
   ],
   "source": [
    "# Training\n",
    "epochs = 15\n",
    "history = model.fit(train_padded, train_labels,\n",
    "                    validation_data = (validation_padded, validation_labels),\n",
    "                    epochs = epochs,\n",
    "                    verbose=2)"
   ]
  },
  {
   "cell_type": "code",
   "execution_count": 233,
   "metadata": {},
   "outputs": [
    {
     "data": {
      "image/png": "[encoded data removed]",
      "text/plain": [
       "<Figure size 432x288 with 1 Axes>"
      ]
     },
     "metadata": {
      "needs_background": "light"
     },
     "output_type": "display_data"
    }
   ],
   "source": [
    "# Plotting Accuracy\n",
    "import matplotlib.pyplot as plt\n",
    "plt.plot(history.history['acc'], label='Train Accuracy')\n",
    "plt.plot(history.history['val_acc'], label='Validation Accuracy')\n",
    "plt.legend()\n",
    "plt.title('Accuracy');"
   ]
  },
  {
   "cell_type": "code",
   "execution_count": 235,
   "metadata": {},
   "outputs": [
    {
     "data": {
      "image/png": "[encoded data removed]",
      "text/plain": [
       "<Figure size 432x288 with 1 Axes>"
      ]
     },
     "metadata": {
      "needs_background": "light"
     },
     "output_type": "display_data"
    }
   ],
   "source": [
    "# Plotting Loss\n",
    "plt.plot(history.history['loss'], label='Training Loss')\n",
    "plt.plot(history.history['val_loss'], label='Validation Loss')\n",
    "plt.legend()\n",
    "plt.title('Loss');"
   ]
  },
  {
   "cell_type": "markdown",
   "metadata": {},
   "source": []
  },
  {
   "cell_type": "code",
   "execution_count": null,
   "metadata": {},
   "outputs": [],
   "source": []
  },
  {
   "cell_type": "code",
   "execution_count": null,
   "metadata": {},
   "outputs": [],
   "source": []
  }
 ],
 "metadata": {
  "kernelspec": {
   "display_name": "Python 3",
   "language": "python",
   "name": "python3"
  },
  "language_info": {
   "codemirror_mode": {
    "name": "ipython",
    "version": 3
   },
   "file_extension": ".py",
   "mimetype": "text/x-python",
   "name": "python",
   "nbconvert_exporter": "python",
   "pygments_lexer": "ipython3",
   "version": "3.7.7"
  }
 },
 "nbformat": 4,
 "nbformat_minor": 4
}
